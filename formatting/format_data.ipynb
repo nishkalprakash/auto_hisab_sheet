{
 "cells": [
  {
   "cell_type": "markdown",
   "metadata": {},
   "source": [
    "# Code to Format Data into Human Readable"
   ]
  },
  {
   "cell_type": "markdown",
   "metadata": {},
   "source": [
    "## Init"
   ]
  },
  {
   "cell_type": "code",
   "execution_count": 10,
   "metadata": {},
   "outputs": [],
   "source": [
    "# This file runs the whole setup\n",
    "\n",
    "# %% Init\n",
    "from pathlib import Path\n",
    "\n",
    "import pandas as pd\n",
    "# Read exported data\n",
    "\n",
    "base = Path(\"res/\")\n"
   ]
  },
  {
   "cell_type": "markdown",
   "metadata": {},
   "source": [
    "## For Importing"
   ]
  },
  {
   "cell_type": "markdown",
   "metadata": {},
   "source": [
    "### Reading data into pandas from sql"
   ]
  },
  {
   "cell_type": "code",
   "execution_count": 30,
   "metadata": {},
   "outputs": [],
   "source": [
    "def get_df_d(asset_d,db_name,q=\"\"):\n",
    "    def get_db_conn():\n",
    "        import sqlite3\n",
    "        dbf=db_name\n",
    "        return sqlite3.connect(base/dbf)\n",
    "\n",
    "    def get_df(asset_name,conn,q=\"\"):\n",
    "        sqlcols={\n",
    "            'Date':'WDATE',\n",
    "            'Category':'ZCONTENT',\n",
    "            'Details':'ZDATA',\n",
    "            'Amount':'AMOUNT_ACCOUNT',\n",
    "            # 'Account':'assetUid',\n",
    "            # 'toAccount':'toAssetUid'\n",
    "        }\n",
    "        if q==\"\":\n",
    "            q=f\"\"\"\n",
    "            SELECT \n",
    "                {\", \".join([v+\" as \"+k for k,v in sqlcols.items()])},\n",
    "                (select NIC_NAME from ASSETS where uid=assetUid) as Account,\n",
    "                (select NIC_NAME from ASSETS where uid=toAssetUid) as TransToAccount\n",
    "                FROM INOUTCOME\n",
    "                WHERE\n",
    "                toAssetUid in (select uid from ASSETS where NIC_NAME=\"{asset_name}\")\n",
    "                and\n",
    "                AssetUid in (select uid from ASSETS where NIC_NAME=\"Churail\")\n",
    "                and\n",
    "                Category not like \"Kaushalya Ghar Kharcha\"\n",
    "                order by Date\n",
    "            \"\"\" \n",
    "        df = pd.read_sql(q,conn,parse_dates=['Date'],coerce_float=True)\n",
    "        return df\n",
    "\n",
    "    # %% separate data into 3 datasets\n",
    "    df_d={}\n",
    "    conn=get_db_conn()\n",
    "\n",
    "    # assetUid_d=get_assetUid_d(asset_d,conn)\n",
    "    for fname,asset_name in asset_d.items():\n",
    "        print(fname,asset_name)\n",
    "        df_d[fname]=get_df(asset_name,conn,q)\n",
    "    conn.close()\n",
    "    \n",
    "    return df_d\n",
    "\n"
   ]
  },
  {
   "cell_type": "code",
   "execution_count": 32,
   "metadata": {},
   "outputs": [],
   "source": [
    "# %% date agg\n",
    "\n",
    "def sm(det_l,m=75):\n",
    "    # m = 50\n",
    "    if len(det_l)==0 or m<1:\n",
    "        return \"\"\n",
    "    if len(det_l.iloc[0])<=m:\n",
    "        return \" \".join([\n",
    "            det_l.iloc[0],\n",
    "            sm(det_l.iloc[1:],m-len(det_l.iloc[0])-1)\n",
    "            ]).strip().replace('\\n',', ')\n",
    "    if m>=3:\n",
    "        return det_l.iloc[0][:m-3]+\"...\"\n",
    "    return \"\"\n",
    "\n",
    "    \n",
    "def agg_by_day(dt) -> pd.DataFrame:\n",
    "    aggr = {\n",
    "        'Account':'first',\n",
    "        'TransToAccount':'first',\n",
    "        'Details': sm,\n",
    "        'Amount': sum,\n",
    "    }\n",
    "    out = dt.groupby([dt['Date'].dt.date, 'Category']).agg(aggr)\n",
    "    return out\n",
    "\n",
    "def agg_by_month(dt):\n",
    "    # out=dt.groupby([pd.Grouper(dty='Date',freq='M'),'Category']).agg(aggr)\n",
    "    return dt.groupby([dt['Date'].dt.strftime(\"%Y.%m\"), 'Category']).agg({\n",
    "        'Amount': sum\n",
    "    })\n",
    "\n",
    "def agg_overall(dt):\n",
    "    return dt.groupby('Category').agg({'Amount': sum})\n",
    "\n",
    "def agg_m(dt) -> pd.DataFrame:\n",
    "    return dt.groupby([dt['Date'].dt.strftime(\"%Y.%m\")]).agg({'Amount': sum})\n",
    "\n",
    "# %%\n",
    "\n",
    "#%% functions list\n",
    "def sql_injection(*args):\n",
    "    n=\"_\".join(args)\n",
    "    asset_d[n]=f'''{'\" OR NIC_NAME=\"'.join(asset_d.pop(k) for k in args)}'''\n",
    "\n"
   ]
  },
  {
   "cell_type": "markdown",
   "metadata": {},
   "source": [
    "### Getting df from sql"
   ]
  },
  {
   "cell_type": "code",
   "execution_count": 33,
   "metadata": {},
   "outputs": [
    {
     "name": "stdout",
     "output_type": "stream",
     "text": [
      "ke_md_ml Kaushalya flat\" OR NIC_NAME=\"Mummy (Doctor)\" OR NIC_NAME=\"Mummy (Lawyer)\n"
     ]
    }
   ],
   "source": [
    "## Get excel file for nikki di's hisab\n",
    "db_name=\"money_android.sqlite\"\n",
    "asset_d={\n",
    "    'ke':'Kaushalya flat',\n",
    "    # 'mp':'Mummy (Police)',\n",
    "    'ml':'Mummy (Lawyer)',\n",
    "    'md':\"Mummy (Doctor)\"\n",
    "    # Mummy (Police)\" OR NIC_NAME=\"Mummy (Lawyer)\n",
    "}\n",
    "\n",
    "fun_l=[\n",
    "    agg_overall,\n",
    "    agg_by_day,\n",
    "    # agg_by_month,\n",
    "    # agg_m\n",
    "]\n",
    "\n",
    "sql_injection('ke','md','ml')\n",
    "df_d=get_df_d(asset_d,db_name)\n"
   ]
  },
  {
   "cell_type": "code",
   "execution_count": 34,
   "metadata": {},
   "outputs": [
    {
     "name": "stdout",
     "output_type": "stream",
     "text": [
      "Done for ke_md_ml\n",
      "Done for ke_md_ml\n"
     ]
    }
   ],
   "source": [
    "\n",
    "for k,df in df_d.items():\n",
    "    # running the functions and saving the files by its var names -_-\n",
    "    for fun in fun_l:\n",
    "        fname=base/f'{k}.xlsx'\n",
    "        fn=fun.__name__\n",
    "        if fname.exists():\n",
    "            with pd.ExcelWriter(fname,mode='a',if_sheet_exists='replace') as writer: \n",
    "                fun(df).to_excel(excel_writer=writer,sheet_name=fn,float_format=\"%.2f\",freeze_panes=(1,0))\n",
    "        else:\n",
    "            fun(df).to_excel(excel_writer=fname,sheet_name=fn,float_format=\"%.2f\",freeze_panes=(1,0))\n",
    "\n",
    "        print(f\"Done for {k}\")\n"
   ]
  },
  {
   "cell_type": "code",
   "execution_count": null,
   "metadata": {},
   "outputs": [],
   "source": [
    "db_name=\"money_android.sqlite\"\n",
    "asset_d={\n",
    "    'ke':'Kaushalya flat',\n",
    "    # 'mp':'Mummy (Police)',\n",
    "    'ml':'Mummy (Lawyer)',\n",
    "    'md':\"Mummy (Doctor)\"\n",
    "    # Mummy (Police)\" OR NIC_NAME=\"Mummy (Lawyer)\n",
    "}\n",
    "\n",
    "fun_l=[\n",
    "    agg_overall,\n",
    "    agg_by_day,\n",
    "    # agg_by_month,\n",
    "    # agg_m\n",
    "]\n",
    "\n",
    "sql_injection('ke','md','ml')\n",
    "\n",
    "sqlcols={\n",
    "            'Date':'WDATE',\n",
    "            'Category':'ZCONTENT',\n",
    "            'Details':'ZDATA',\n",
    "            'Amount':'AMOUNT_ACCOUNT'\n",
    "        }\n",
    "q=\"\"\"\n",
    "    SELECT \n",
    "        {\", \".join([v+\" as \"+k for k,v in sqlcols.items()])},\n",
    "        (select NIC_NAME from ASSETS where uid=assetUid) as Account\n",
    "    FROM INOUTCOME\n",
    "    WHERE\n",
    "        toAssetUid in (select uid from ASSETS where NIC_NAME=\"{asset_name}\")\n",
    "    ORDER by Date\n",
    "\"\"\"\n",
    "df_d=get_df_d(asset_d,db_name,q)\n",
    "\n",
    "for k,df in df_d.items():\n",
    "    # running the functions and saving the files by its var names -_-\n",
    "    for fun in fun_l:\n",
    "        fname=base/f'{k}.xlsx'\n",
    "        fn=fun.__name__\n",
    "        if fname.exists():\n",
    "            with pd.ExcelWriter(fname,mode='a',if_sheet_exists='replace') as writer: \n",
    "                fun(df).to_excel(excel_writer=writer,sheet_name=fn,float_format=\"%.2f\",freeze_panes=(1,0))\n",
    "        else:\n",
    "            fun(df).to_excel(excel_writer=fname,sheet_name=fn,float_format=\"%.2f\",freeze_panes=(1,0))\n",
    "\n",
    "        print(f\"Done for {k}\")\n"
   ]
  },
  {
   "cell_type": "code",
   "execution_count": 9,
   "metadata": {},
   "outputs": [
    {
     "name": "stdout",
     "output_type": "stream",
     "text": [
      "ke Kaushalya flat\n",
      "md Mummy (Doctor)\n",
      "Done for ke\n",
      "Done for md\n"
     ]
    }
   ],
   "source": [
    "## Get xlsx files (main code)\n",
    "db_name=\"money_android.sqlite\"\n",
    "asset_d={\n",
    "    'ke':'Kaushalya flat',\n",
    "    # 'mp':'Mummy (Police)',\n",
    "    # 'ml':'Mummy (Lawyer)',\n",
    "    'md':\"Mummy (Doctor)\"\n",
    "    # Mummy (Police)\" OR NIC_NAME=\"Mummy (Lawyer)\n",
    "}\n",
    "def sql_injection(*args):\n",
    "    n=\"_\".join(args)\n",
    "    asset_d[n]=f'''{'\" OR NIC_NAME=\"'.join(asset_d.pop(k) for k in args)}'''\n",
    "\n",
    "fun_l=[\n",
    "    # agg_overall,\n",
    "    agg_by_day,\n",
    "    # agg_by_month,\n",
    "    # agg_m\n",
    "]\n",
    "\n",
    "# sql_injection('mp','ml')\n",
    "\n",
    "df_d=get_df_d(asset_d,db_name)\n",
    "\n",
    "## Delete existing sheets\n",
    "# from os import remove\n",
    "# for k,df in df_d.items():\n",
    "#     # running the functions and saving the files by its var names -_-\n",
    "#     for fun in fun_l:\n",
    "#         fname=base/f'{k}.xlsx'\n",
    "#         if fname.exists():\n",
    "#             remove(fname)\n",
    "\n",
    "for k,df in df_d.items():\n",
    "    # running the functions and saving the files by its var names -_-\n",
    "    for fun in fun_l:\n",
    "        fname=base/f'{k}.xlsx'\n",
    "        fn=fun.__name__\n",
    "        if fname.exists():\n",
    "            with pd.ExcelWriter(fname,mode='a',if_sheet_exists='replace') as writer: \n",
    "                fun(df).to_excel(excel_writer=writer,sheet_name=fn,float_format=\"%.2f\",freeze_panes=(1,0))\n",
    "        else:\n",
    "            fun(df).to_excel(excel_writer=fname,sheet_name=fn,float_format=\"%.2f\",freeze_panes=(1,0))\n",
    "\n",
    "        print(f\"Done for {k}\")\n"
   ]
  }
 ],
 "metadata": {
  "interpreter": {
   "hash": "275a08fe12b2a90d12bf3fe4056023386b5c3843172c55fc0623126e3169f07a"
  },
  "kernelspec": {
   "display_name": "Python 3.9.9 64-bit (windows store)",
   "language": "python",
   "name": "python3"
  },
  "language_info": {
   "codemirror_mode": {
    "name": "ipython",
    "version": 3
   },
   "file_extension": ".py",
   "mimetype": "text/x-python",
   "name": "python",
   "nbconvert_exporter": "python",
   "pygments_lexer": "ipython3",
   "version": "3.9.10"
  },
  "orig_nbformat": 4
 },
 "nbformat": 4,
 "nbformat_minor": 2
}
